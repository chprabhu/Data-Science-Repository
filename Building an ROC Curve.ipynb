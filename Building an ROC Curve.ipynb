{
 "metadata": {
  "name": "",
  "signature": "sha256:83dbdd265a083dde62de5308c02ace0eb2ee1afea45c1f4b55d13d04bdd3cb90"
 },
 "nbformat": 3,
 "nbformat_minor": 0,
 "worksheets": [
  {
   "cells": [
    {
     "cell_type": "heading",
     "level": 2,
     "metadata": {},
     "source": [
      "Read In Data"
     ]
    },
    {
     "cell_type": "code",
     "collapsed": false,
     "input": [
      "import pandas as pd\n",
      "import numpy as np\n",
      "\n",
      "df = pd.read_csv('C:\\Users\\cprab\\Desktop\\ISLR\\default.csv')\n",
      "\n",
      "print df.head()"
     ],
     "language": "python",
     "metadata": {},
     "outputs": [
      {
       "output_type": "stream",
       "stream": "stdout",
       "text": [
        "  default student      balance       income\n",
        "0      No      No   729.526495  44361.62507\n",
        "1      No     Yes   817.180407  12106.13470\n",
        "2      No      No  1073.549164  31767.13895\n",
        "3      No      No   529.250605  35704.49394\n",
        "4      No      No   785.655883  38463.49588\n"
       ]
      }
     ],
     "prompt_number": 124
    },
    {
     "cell_type": "heading",
     "level": 2,
     "metadata": {},
     "source": [
      "Create Target Variable"
     ]
    },
    {
     "cell_type": "code",
     "collapsed": false,
     "input": [
      "df['target'] = 0\n",
      "df['target'][df.default == 'No'] = 0\n",
      "df['target'][df.default == 'Yes'] = 1"
     ],
     "language": "python",
     "metadata": {},
     "outputs": [],
     "prompt_number": 126
    },
    {
     "cell_type": "heading",
     "level": 2,
     "metadata": {},
     "source": [
      "Run Logistic Regression on Training Set"
     ]
    },
    {
     "cell_type": "code",
     "collapsed": false,
     "input": [
      "import statsmodels.api as sm\n",
      "\n",
      "# Reshaping the user_age variable for use in the logit model\n",
      "x = df['balance'].reshape(len(df['balance']),1)\n",
      "y = df['target']\n",
      "\n",
      "num_samples, num_features = x.shape\n",
      "half = int(num_samples / 2)\n",
      "\n",
      "x_train, x_test = x[:half], x[half:]\n",
      "y_train, y_test = y[:half], y[half:]\n",
      "\n",
      "# Adding a constant column to the RHS, in order to get back an estimate for the intercept value\n",
      "x_train = sm.add_constant(x_train)\n",
      "\n",
      "logit = sm.Logit(y_train, x_train)\n",
      "result = logit.fit()\n",
      "print result.summary()"
     ],
     "language": "python",
     "metadata": {},
     "outputs": [
      {
       "output_type": "stream",
       "stream": "stdout",
       "text": [
        "Optimization terminated successfully.\n",
        "         Current function value: 0.081404\n",
        "         Iterations 10\n",
        "                           Logit Regression Results                           \n",
        "==============================================================================\n",
        "Dep. Variable:                 target   No. Observations:                 5000\n",
        "Model:                          Logit   Df Residuals:                     4998\n",
        "Method:                           MLE   Df Model:                            1\n",
        "Date:                Fri, 24 Jul 2015   Pseudo R-squ.:                  0.4634\n",
        "Time:                        15:17:01   Log-Likelihood:                -407.02\n",
        "converged:                       True   LL-Null:                       -758.57\n",
        "                                        LLR p-value:                6.324e-155\n",
        "==============================================================================\n",
        "                 coef    std err          z      P>|z|      [95.0% Conf. Int.]\n",
        "------------------------------------------------------------------------------\n",
        "const        -10.6584      0.502    -21.247      0.000       -11.642    -9.675\n",
        "x1             0.0056      0.000     18.063      0.000         0.005     0.006\n",
        "==============================================================================\n"
       ]
      }
     ],
     "prompt_number": 127
    },
    {
     "cell_type": "heading",
     "level": 2,
     "metadata": {},
     "source": [
      "Score the Test Set"
     ]
    },
    {
     "cell_type": "code",
     "collapsed": false,
     "input": [
      "y_predict_prob = (np.exp(-10.6548+0.0056*x_test)) / (1+np.exp(-10.6548+0.0056*x_test))\n",
      "print y_predict_prob.shape\n",
      "\n",
      "y_predict = pd.DataFrame(y_predict_prob,columns=['predict_prob'])\n",
      "print y_predict.head()"
     ],
     "language": "python",
     "metadata": {},
     "outputs": [
      {
       "output_type": "stream",
       "stream": "stdout",
       "text": [
        "(5000, 1)\n",
        "   predict_prob\n",
        "0      0.000118\n",
        "1      0.000806\n",
        "2      0.000720\n",
        "3      0.021900\n",
        "4      0.000147\n"
       ]
      }
     ],
     "prompt_number": 128
    },
    {
     "cell_type": "code",
     "collapsed": false,
     "input": [
      "threshold = 0.5\n",
      "y_predict['predict'] = 0\n",
      "y_predict['predict'][y_predict.predict_prob >= threshold] = 1\n",
      "y_predict['predict'][y_predict.predict_prob < threshold] = 0\n",
      "\n",
      "print y_predict.head()\n",
      "#print y_predict[y_predict['predict']==1]"
     ],
     "language": "python",
     "metadata": {},
     "outputs": [
      {
       "output_type": "stream",
       "stream": "stdout",
       "text": [
        "   predict_prob  predict\n",
        "0      0.000118        0\n",
        "1      0.000806        0\n",
        "2      0.000720        0\n",
        "3      0.021900        0\n",
        "4      0.000147        0\n"
       ]
      }
     ],
     "prompt_number": 129
    },
    {
     "cell_type": "code",
     "collapsed": false,
     "input": [
      "d = {'actual': y_test}\n",
      "y_test = pd.DataFrame(d)\n",
      "\n",
      "y_test = y_test.reset_index(drop=True)\n",
      "print y_test.head()"
     ],
     "language": "python",
     "metadata": {},
     "outputs": [
      {
       "output_type": "stream",
       "stream": "stdout",
       "text": [
        "   actual\n",
        "0       0\n",
        "1       0\n",
        "2       0\n",
        "3       0\n",
        "4       0\n"
       ]
      }
     ],
     "prompt_number": 130
    },
    {
     "cell_type": "code",
     "collapsed": false,
     "input": [
      "final_df = pd.concat([y_predict, y_test], axis=1)\n",
      "print final_df.head()"
     ],
     "language": "python",
     "metadata": {},
     "outputs": [
      {
       "output_type": "stream",
       "stream": "stdout",
       "text": [
        "   predict_prob  predict  actual\n",
        "0      0.000118        0       0\n",
        "1      0.000806        0       0\n",
        "2      0.000720        0       0\n",
        "3      0.021900        0       0\n",
        "4      0.000147        0       0\n"
       ]
      }
     ],
     "prompt_number": 131
    },
    {
     "cell_type": "code",
     "collapsed": false,
     "input": [
      "def calc_roc_vals(y_predict, y_test, threshold):\n",
      "    y_predict['predict'] = 0\n",
      "    y_predict['predict'][y_predict.predict_prob >= threshold] = 1\n",
      "    y_predict['predict'][y_predict.predict_prob < threshold] = 0\n",
      "    final_df = pd.concat([y_predict, y_test], axis=1)\n",
      "    \n",
      "    total_pos = len(final_df[final_df['actual']==1])\n",
      "    total_neg = len(final_df[final_df['actual']==0])\n",
      "    \n",
      "    true_pos = final_df[final_df['actual']==1]['predict'].sum() \n",
      "    false_pos = final_df[final_df['actual']==0]['predict'].sum()\n",
      "    \n",
      "    return true_pos, false_pos, total_pos, total_neg\n",
      "\n",
      "true_pos, false_pos, total_pos, total_neg = calc_roc_vals(y_predict, y_test, 0.5)\n",
      "\n",
      "print true_pos / float(total_pos)\n",
      "print false_pos / float(total_neg)"
     ],
     "language": "python",
     "metadata": {},
     "outputs": [
      {
       "output_type": "stream",
       "stream": "stdout",
       "text": [
        "54\n",
        "28\n",
        "158\n",
        "4842\n",
        "0.341772151899\n",
        "0.00578273440727\n"
       ]
      }
     ],
     "prompt_number": 151
    },
    {
     "cell_type": "code",
     "collapsed": false,
     "input": [
      "index=0\n",
      "roc_points = pd.DataFrame(columns=['threshold','tpr','fpr'])\n",
      "\n",
      "for i in np.arange(0.01,1,0.01): \n",
      "    true_pos, false_pos, total_pos, total_neg = calc_roc_vals(y_predict, y_test, i)\n",
      "    tpr = true_pos / float(total_pos)\n",
      "    fpr = false_pos / float(total_neg)\n",
      "    roc_points.loc[index] = [i, tpr, fpr]\n",
      "    index = index + 1\n",
      "    \n",
      "print roc_points.head()\n",
      "print len(roc_points)\n"
     ],
     "language": "python",
     "metadata": {},
     "outputs": [
      {
       "output_type": "stream",
       "stream": "stdout",
       "text": [
        "  threshold        tpr        fpr\n",
        "0      0.01  0.9620253  0.2806691\n",
        "1      0.02  0.9240506  0.2030153\n",
        "2      0.03  0.8987342  0.1625361\n",
        "3      0.04  0.8670886  0.1373399\n",
        "4      0.05  0.8481013  0.1189591\n",
        "99\n"
       ]
      }
     ],
     "prompt_number": 172
    },
    {
     "cell_type": "code",
     "collapsed": false,
     "input": [
      "%matplotlib inline\n",
      "import matplotlib.pyplot as plt\n",
      "# Plot line graph of order rate by customer age\n",
      "fpr = roc_points['fpr']\n",
      "tpr = roc_points['tpr']\n",
      "plt.plot(fpr, tpr)\n",
      "plt.xlabel('False Positive Rate')\n",
      "plt.ylabel('True Positive Rate')\n",
      "plt.title('ROC Curve')\n",
      "plt.show()"
     ],
     "language": "python",
     "metadata": {},
     "outputs": [
      {
       "metadata": {},
       "output_type": "display_data",
       "png": "[encoded data removed]",
       "text": [
        "<matplotlib.figure.Figure at 0x1f061110>"
       ]
      }
     ],
     "prompt_number": 171
    },
    {
     "cell_type": "code",
     "collapsed": false,
     "input": [],
     "language": "python",
     "metadata": {},
     "outputs": []
    }
   ],
   "metadata": {}
  }
 ]
}
